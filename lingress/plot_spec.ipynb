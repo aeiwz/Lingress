{
 "cells": [
  {
   "cell_type": "code",
   "execution_count": 1,
   "metadata": {},
   "outputs": [],
   "source": [
    "import pandas as pd\n",
    "import numpy as np\n",
    "import plotly.express as px\n",
    "import plotly.graph_objects as go\n",
    "\n"
   ]
  },
  {
   "cell_type": "markdown",
   "metadata": {},
   "source": [
    "## **KKUPC6602014**"
   ]
  },
  {
   "cell_type": "code",
   "execution_count": 3,
   "metadata": {},
   "outputs": [
    {
     "ename": "NameError",
     "evalue": "name 'pd' is not defined",
     "output_type": "error",
     "traceback": [
      "\u001b[0;31m---------------------------------------------------------------------------\u001b[0m",
      "\u001b[0;31mNameError\u001b[0m                                 Traceback (most recent call last)",
      "Cell \u001b[0;32mIn[3], line 1\u001b[0m\n\u001b[0;32m----> 1\u001b[0m df \u001b[38;5;241m=\u001b[39m \u001b[43mpd\u001b[49m\u001b[38;5;241m.\u001b[39mread_csv(\u001b[38;5;124m'\u001b[39m\u001b[38;5;124m//Volumes/CAS9/Aeiwz/Documents/Project/Thesis_smj/Analyse/Dataset/FW_noesy_pqn.csv\u001b[39m\u001b[38;5;124m'\u001b[39m)\n\u001b[1;32m      2\u001b[0m project \u001b[38;5;241m=\u001b[39m \u001b[38;5;124m'\u001b[39m\u001b[38;5;124mKKUPC6602014\u001b[39m\u001b[38;5;124m'\u001b[39m\n\u001b[1;32m      5\u001b[0m spectra \u001b[38;5;241m=\u001b[39m df\u001b[38;5;241m.\u001b[39miloc[:, \u001b[38;5;241m14\u001b[39m:]\n",
      "\u001b[0;31mNameError\u001b[0m: name 'pd' is not defined"
     ]
    }
   ],
   "source": [
    "df = pd.read_csv('//Volumes/CAS9/Aeiwz/Documents/Project/Thesis_smj/Analyse/Dataset/FW_noesy_pqn.csv')\n",
    "project = 'KKUPC6602014'\n",
    "\n",
    "\n",
    "spectra = df.iloc[:, 14:]\n",
    "ppm = spectra.columns.astype(float)\n",
    "\n",
    "\n",
    "line_color = {\n",
    "                \"sham ad libitum\": \"#E91E63\",        \n",
    "                \"CR + INT777 (L)\": \"#FF9800\",\n",
    "                \"CR + INT777 (H)\": \"#FFEB3B\",\n",
    "                }\n"
   ]
  },
  {
   "cell_type": "code",
   "execution_count": 53,
   "metadata": {},
   "outputs": [
    {
     "data": {
      "text/plain": [
       "(22915, 22915)"
      ]
     },
     "execution_count": 53,
     "metadata": {},
     "output_type": "execute_result"
    }
   ],
   "source": [
    "spectra.shape[1], len(ppm)"
   ]
  },
  {
   "cell_type": "code",
   "execution_count": 39,
   "metadata": {},
   "outputs": [
    {
     "data": {
      "text/plain": [
       "pandas.core.indexes.numeric.Float64Index"
      ]
     },
     "execution_count": 39,
     "metadata": {},
     "output_type": "execute_result"
    }
   ],
   "source": [
    "type(ppm)"
   ]
  },
  {
   "cell_type": "code",
   "execution_count": 85,
   "metadata": {},
   "outputs": [],
   "source": [
    "class plot_spectra:\n",
    "    \n",
    "    def __init__(self, spectra, ppm , group, line_color: dict):\n",
    "\n",
    "        import pandas as pd\n",
    "        import numpy as np\n",
    "        import plotly.express as px\n",
    "        import plotly.graph_objects as go\n",
    "\n",
    "        if not isinstance(spectra, pd.DataFrame or np.ndarray):\n",
    "            raise ValueError('spectra must be a pandas DataFrame or numpy array')\n",
    "            if not all(isinstance(i, float) for i in ppm):\n",
    "                raise ValueError('ppm must be a list of float')\n",
    "            if spectra.shape[1] != len(ppm):\n",
    "                raise ValueError(f'Number of columns in spectra ({spectra.shape[1]}) must be equal to the length of ppm ({len(ppm)})')\n",
    "        if not isinstance(group, pd.Series or np.ndarray or list):\n",
    "            raise ValueError('group must be a pandas Series, numpy array or list')\n",
    "\n",
    "        if spectra.shape[0] != len(group):\n",
    "            raise ValueError('spectra and group must have the same number of rows')\n",
    "        if not isinstance(line_color, dict):\n",
    "            raise ValueError('line_color must be a dictionary')\n",
    "\n",
    "\n",
    "        self.spectra = spectra\n",
    "        self.ppm = ppm\n",
    "        self.group = group\n",
    "        self.line_color = line_color\n",
    "\n",
    "        data = pd.DataFrame(spectra)\n",
    "        data['Group'] = group\n",
    "        data = data.groupby('Group').median()\n",
    "        self.data = data\n",
    "\n",
    "\n",
    "    def plot_median_spectra(self, fig_height=1000, fig_width=3000, line_width=1.5, font_size=20, title_font_size=28):\n",
    "        #plot spectra\n",
    "        data = self.data\n",
    "        fig = go.Figure()\n",
    "        fig.update_layout(height=fig_height, width=fig_width)\n",
    "        for i in data.index:\n",
    "            fig.add_trace(go.Scatter(x=ppm, y=data.loc[i,:], mode='lines', name=i, line=dict(color=line_color[i], width=line_width\n",
    "            )))\n",
    "\n",
    "        fig.update_layout(\n",
    "            autosize=False,\n",
    "            width=3000,\n",
    "            height=1000,\n",
    "            margin=dict(\n",
    "                l=50,\n",
    "                r=50,\n",
    "                b=100,\n",
    "                t=100,\n",
    "                pad=4\n",
    "            )\n",
    "        )\n",
    "\n",
    "\n",
    "\n",
    "        #add line tick of Y and X axis\n",
    "\n",
    "        fig.update_xaxes(showline=True, showgrid=False, linewidth=1, linecolor='rgb(82, 82, 82)', mirror=True)\n",
    "        fig.update_yaxes(showline=True, showgrid=False, linewidth=1, linecolor='rgb(82, 82, 82)', mirror=True)\n",
    "\n",
    "        #Set font size of label\n",
    "        fig.update_layout(font=go.layout.Font(size=font_size))\n",
    "        #Add title\n",
    "        fig.update_layout(title={'text': 'Medien Spectra', 'y':0.9, 'x':0.5, 'xanchor': 'center', 'yanchor': 'top'}, \n",
    "                        title_x=0.5, \n",
    "                        xaxis_title='δ <sup>1</sup>H ppm', yaxis_title=\"Intensity\",\n",
    "                        title_font_size=title_font_size,\n",
    "                        title_yanchor=\"top\",\n",
    "                        title_xanchor=\"center\")\n",
    "\n",
    "\n",
    "                        \n",
    "\n",
    "        #Invert x-axis\n",
    "        fig.update_xaxes(autorange='reversed')\n",
    "        #Alpha background\n",
    "        fig.update_layout(paper_bgcolor='rgba(0,0,0,0)',plot_bgcolor='rgba(0,0,0,0)')\n",
    "        #fig.update_layout(title='Medien Spectra', xaxis_title='δ <sup>1</sup>H', yaxis_title='Intensity')\n",
    "        #Y axis scale unite as scientific style decimal 4 digit\n",
    "\n",
    "        fig.update_yaxes(tickformat='e')\n",
    "\n",
    "        fig.show()\n"
   ]
  },
  {
   "cell_type": "code",
   "execution_count": 1,
   "metadata": {},
   "outputs": [
    {
     "ename": "NameError",
     "evalue": "name 'plot_spectra' is not defined",
     "output_type": "error",
     "traceback": [
      "\u001b[0;31m---------------------------------------------------------------------------\u001b[0m",
      "\u001b[0;31mNameError\u001b[0m                                 Traceback (most recent call last)",
      "Cell \u001b[0;32mIn[1], line 1\u001b[0m\n\u001b[0;32m----> 1\u001b[0m \u001b[43mplot_spectra\u001b[49m(spectra\u001b[38;5;241m=\u001b[39mspectra, ppm\u001b[38;5;241m=\u001b[39mppm, group\u001b[38;5;241m=\u001b[39mdf[\u001b[38;5;124m'\u001b[39m\u001b[38;5;124mGroup\u001b[39m\u001b[38;5;124m'\u001b[39m], line_color\u001b[38;5;241m=\u001b[39mline_color)\u001b[38;5;241m.\u001b[39mplot_median_spectra()\n",
      "\u001b[0;31mNameError\u001b[0m: name 'plot_spectra' is not defined"
     ]
    }
   ],
   "source": [
    "plot_spectra(spectra=spectra, ppm=ppm, group=df['Group'], line_color=line_color).plot_median_spectra()"
   ]
  },
  {
   "cell_type": "code",
   "execution_count": 56,
   "metadata": {},
   "outputs": [
    {
     "data": {
      "text/plain": [
       "(22915, 22915)"
      ]
     },
     "execution_count": 56,
     "metadata": {},
     "output_type": "execute_result"
    }
   ],
   "source": [
    "spectra.shape[1], len(ppm)"
   ]
  }
 ],
 "metadata": {
  "kernelspec": {
   "display_name": "Python 3",
   "language": "python",
   "name": "python3"
  },
  "language_info": {
   "codemirror_mode": {
    "name": "ipython",
    "version": 3
   },
   "file_extension": ".py",
   "mimetype": "text/x-python",
   "name": "python",
   "nbconvert_exporter": "python",
   "pygments_lexer": "ipython3",
   "version": "3.11.7"
  }
 },
 "nbformat": 4,
 "nbformat_minor": 2
}
